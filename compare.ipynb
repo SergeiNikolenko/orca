{
 "cells": [
  {
   "cell_type": "code",
   "execution_count": 1,
   "metadata": {},
   "outputs": [
    {
     "name": "stdout",
     "output_type": "stream",
     "text": [
      "Number of error .inp files: 344\n",
      "Number of completed .inp files: 4405\n",
      "Number of completed .out files terminated normally: 3405\n",
      "Number of files with charge 1: 1149\n",
      "Number of files with charge 0: 1189\n",
      "Number of files with charge -1: 1186\n",
      "Number of files with only charge 1: 0\n",
      "Number of files with only charge 0: 2\n",
      "Number of files with only charge -1: 13\n",
      "Number of files with charges 1 and 0: 16\n",
      "Number of files with charges 1 and -1: 2\n",
      "Number of files with charges 0 and -1: 40\n",
      "Number of files with all three charges: 1131\n"
     ]
    }
   ],
   "source": [
    "from pathlib import Path\n",
    "import re\n",
    "\n",
    "base_dir = Path(\"/home/nikolenko/work/orca/orca_files\")\n",
    "error_dir = base_dir / \"error\"\n",
    "inp_dir = base_dir / \"inp\"\n",
    "out_dir = base_dir / \"out\"\n",
    "\n",
    "# Step 1: Count .inp files in error directory\n",
    "error_inp_files = list(error_dir.glob(\"*.inp\"))\n",
    "error_inp_count = len(error_inp_files)\n",
    "print(f\"Number of error .inp files: {error_inp_count}\")\n",
    "\n",
    "# Step 2: Count .inp files in inp directory\n",
    "completed_inp_files = list(inp_dir.glob(\"*.inp\"))\n",
    "completed_inp_count = len(completed_inp_files)\n",
    "print(f\"Number of completed .inp files: {completed_inp_count}\")\n",
    "\n",
    "# Step 3: Find corresponding .out files in out directory\n",
    "completed_out_files = []\n",
    "for inp_file in completed_inp_files:\n",
    "    base_name = inp_file.stem\n",
    "    out_file = out_dir / f\"{base_name}.out\"\n",
    "    if out_file.exists():\n",
    "        completed_out_files.append(out_file)\n",
    "\n",
    "# Step 4: Check how many of them terminated normally\n",
    "terminated_normally_count = 0\n",
    "for out_file in completed_out_files:\n",
    "    with out_file.open() as f:\n",
    "        if \"****ORCA TERMINATED NORMALLY****\" in f.read():\n",
    "            terminated_normally_count += 1\n",
    "\n",
    "print(f\"Number of completed .out files terminated normally: {terminated_normally_count}\")\n",
    "\n",
    "# Step 5: Count files with charges 1, 0, and -1\n",
    "charges_count = {1: 0, 0: 0, -1: 0}\n",
    "charges_files = {1: [], 0: [], -1: []}\n",
    "\n",
    "for out_file in completed_out_files:\n",
    "    base_name = out_file.stem\n",
    "    match = re.search(r'_(\\-?\\d)$', base_name)\n",
    "    if match:\n",
    "        charge = int(match.group(1))\n",
    "        base_name_without_charge = base_name.rsplit('_', 1)[0]\n",
    "        if charge in charges_count:\n",
    "            charges_count[charge] += 1\n",
    "            charges_files[charge].append(base_name_without_charge)\n",
    "\n",
    "print(f\"Number of files with charge 1: {charges_count[1]}\")\n",
    "print(f\"Number of files with charge 0: {charges_count[0]}\")\n",
    "print(f\"Number of files with charge -1: {charges_count[-1]}\")\n",
    "\n",
    "# Step 6: Count intersections of charge files\n",
    "charge_files_sets = {charge: set(files) for charge, files in charges_files.items()}\n",
    "\n",
    "# Intersections\n",
    "only_1 = charge_files_sets[1] - charge_files_sets[0] - charge_files_sets[-1]\n",
    "only_0 = charge_files_sets[0] - charge_files_sets[1] - charge_files_sets[-1]\n",
    "only_neg1 = charge_files_sets[-1] - charge_files_sets[0] - charge_files_sets[1]\n",
    "one_and_zero = (charge_files_sets[1] & charge_files_sets[0]) - charge_files_sets[-1]\n",
    "one_and_neg1 = (charge_files_sets[1] & charge_files_sets[-1]) - charge_files_sets[0]\n",
    "zero_and_neg1 = (charge_files_sets[0] & charge_files_sets[-1]) - charge_files_sets[1]\n",
    "all_three = charge_files_sets[1] & charge_files_sets[0] & charge_files_sets[-1]\n",
    "\n",
    "print(f\"Number of files with only charge 1: {len(only_1)}\")\n",
    "print(f\"Number of files with only charge 0: {len(only_0)}\")\n",
    "print(f\"Number of files with only charge -1: {len(only_neg1)}\")\n",
    "print(f\"Number of files with charges 1 and 0: {len(one_and_zero)}\")\n",
    "print(f\"Number of files with charges 1 and -1: {len(one_and_neg1)}\")\n",
    "print(f\"Number of files with charges 0 and -1: {len(zero_and_neg1)}\")\n",
    "print(f\"Number of files with all three charges: {len(all_three)}\")"
   ]
  },
  {
   "cell_type": "code",
   "execution_count": 3,
   "metadata": {},
   "outputs": [
    {
     "name": "stderr",
     "output_type": "stream",
     "text": [
      "Copying files: 100%|██████████| 1131/1131 [00:30<00:00, 36.49it/s]"
     ]
    },
    {
     "name": "stdout",
     "output_type": "stream",
     "text": [
      "Files copied successfully.\n"
     ]
    },
    {
     "name": "stderr",
     "output_type": "stream",
     "text": [
      "\n"
     ]
    }
   ],
   "source": [
    "from pathlib import Path\n",
    "import shutil\n",
    "from tqdm import tqdm\n",
    "\n",
    "target_dir = Path(\"orca2janpa/orca_calc\")\n",
    "\n",
    "target_dir.mkdir(parents=True, exist_ok=True)\n",
    "\n",
    "for file_name in tqdm(all_three, desc=\"Copying files\"):\n",
    "    matching_files = list(out_dir.glob(f\"{file_name}_*\"))\n",
    "\n",
    "    for file in matching_files:\n",
    "        if file.suffix in ['.out', '.gbw']:\n",
    "            shutil.copy(file, target_dir / file.name)\n",
    "\n",
    "print(\"Files copied successfully.\")"
   ]
  }
 ],
 "metadata": {
  "kernelspec": {
   "display_name": "rapids",
   "language": "python",
   "name": "python3"
  },
  "language_info": {
   "codemirror_mode": {
    "name": "ipython",
    "version": 3
   },
   "file_extension": ".py",
   "mimetype": "text/x-python",
   "name": "python",
   "nbconvert_exporter": "python",
   "pygments_lexer": "ipython3",
   "version": "3.11.8"
  }
 },
 "nbformat": 4,
 "nbformat_minor": 2
}
